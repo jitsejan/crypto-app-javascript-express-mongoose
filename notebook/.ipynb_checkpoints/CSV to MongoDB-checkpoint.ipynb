{
 "cells": [
  {
   "cell_type": "markdown",
   "metadata": {},
   "source": [
    "# Convert CSV to MongoDB"
   ]
  },
  {
   "cell_type": "markdown",
   "metadata": {},
   "source": [
    "## Import the library and connect to MongoDB"
   ]
  },
  {
   "cell_type": "code",
   "execution_count": 1,
   "metadata": {
    "collapsed": false
   },
   "outputs": [
    {
     "name": "stdout",
     "output_type": "stream",
     "text": [
      "3.4.0\n"
     ]
    }
   ],
   "source": [
    "try:\n",
    "    import pymongo\n",
    "except:\n",
    "    !pip install pymongo\n",
    "    import pymongo\n",
    "print(pymongo.version)\n",
    "client = pymongo.MongoClient('mongodb://localhost:27017/')"
   ]
  },
  {
   "cell_type": "markdown",
   "metadata": {},
   "source": [
    "## Create a new database for the data"
   ]
  },
  {
   "cell_type": "code",
   "execution_count": 15,
   "metadata": {
    "collapsed": false
   },
   "outputs": [],
   "source": [
    "db = client['crypto-data']"
   ]
  },
  {
   "cell_type": "markdown",
   "metadata": {},
   "source": [
    "## Show the existing tables (collections) in this database\n",
    "This will give no results initially since we did not put any data yet."
   ]
  },
  {
   "cell_type": "code",
   "execution_count": 43,
   "metadata": {
    "collapsed": false
   },
   "outputs": [
    {
     "data": {
      "text/plain": [
       "['bitcoins', 'bitcoin']"
      ]
     },
     "execution_count": 43,
     "metadata": {},
     "output_type": "execute_result"
    }
   ],
   "source": [
    "db.collection_names()"
   ]
  },
  {
   "cell_type": "markdown",
   "metadata": {},
   "source": [
    "## Create a new table for the Bitcoin data"
   ]
  },
  {
   "cell_type": "code",
   "execution_count": 39,
   "metadata": {
    "collapsed": true
   },
   "outputs": [],
   "source": [
    "bitcoins = db.bitcoins"
   ]
  },
  {
   "cell_type": "markdown",
   "metadata": {},
   "source": [
    "## Check for data in the Bitcoin table\n",
    "The `bitcoin.find({})` command is equal to a `SELECT ALL FROM BITCOIN` in SQL world."
   ]
  },
  {
   "cell_type": "code",
   "execution_count": 41,
   "metadata": {
    "collapsed": false
   },
   "outputs": [
    {
     "name": "stdout",
     "output_type": "stream",
     "text": [
      "[]\n"
     ]
    }
   ],
   "source": [
    "bitcoins_in_database = list(bitcoins.find({}))\n",
    "print(bitcoins_in_database)"
   ]
  },
  {
   "cell_type": "markdown",
   "metadata": {},
   "source": [
    "## Create a Bitcoin data element"
   ]
  },
  {
   "cell_type": "code",
   "execution_count": 48,
   "metadata": {
    "collapsed": false
   },
   "outputs": [
    {
     "name": "stdout",
     "output_type": "stream",
     "text": [
      "{'btc': 0.03, 'eur': 50.77, 'time': '2017-05-12 02:02'}\n"
     ]
    }
   ],
   "source": [
    "bitcoin_element = {}\n",
    "bitcoin_element['btc'] = 0.03\n",
    "bitcoin_element['eur'] = 50.77\n",
    "bitcoin_element['time'] = '2017-05-12 02:02'\n",
    "print(bitcoin_element)"
   ]
  },
  {
   "cell_type": "markdown",
   "metadata": {},
   "source": [
    "## Insert a Bitcoin data element"
   ]
  },
  {
   "cell_type": "code",
   "execution_count": 49,
   "metadata": {
    "collapsed": false
   },
   "outputs": [
    {
     "data": {
      "text/plain": [
       "<pymongo.results.InsertOneResult at 0x108892ab0>"
      ]
     },
     "execution_count": 49,
     "metadata": {},
     "output_type": "execute_result"
    }
   ],
   "source": [
    "bitcoins.insert_one(bitcoin_element)"
   ]
  },
  {
   "cell_type": "markdown",
   "metadata": {},
   "source": [
    "## Check again for data in the Bitcoin table"
   ]
  },
  {
   "cell_type": "code",
   "execution_count": 47,
   "metadata": {
    "collapsed": false
   },
   "outputs": [
    {
     "name": "stdout",
     "output_type": "stream",
     "text": [
      "[{'_id': ObjectId('5914d94b0a4693836f8bc979'), 'btc': 0.03, 'eur': 50.02, 'time': '2017-05-11 23:33'}, {'_id': ObjectId('5914f7f90a4693836f8bc97a'), 'btc': 0.03, 'eur': 50.75, 'time': '2017-05-12 01:46'}]\n"
     ]
    }
   ],
   "source": [
    "bitcoins_in_database = list(bitcoins.find({}))\n",
    "print(bitcoins_in_database)"
   ]
  },
  {
   "cell_type": "markdown",
   "metadata": {},
   "source": [
    "# It is easier to load the data from a CSV file\n",
    "We use the pandas library to read the CSV from the disk."
   ]
  },
  {
   "cell_type": "code",
   "execution_count": 146,
   "metadata": {
    "collapsed": false
   },
   "outputs": [
    {
     "data": {
      "text/html": [
       "<div>\n",
       "<table border=\"1\" class=\"dataframe\">\n",
       "  <thead>\n",
       "    <tr style=\"text-align: right;\">\n",
       "      <th></th>\n",
       "      <th>btc</th>\n",
       "      <th>eur</th>\n",
       "      <th>time</th>\n",
       "    </tr>\n",
       "  </thead>\n",
       "  <tbody>\n",
       "    <tr>\n",
       "      <th>0</th>\n",
       "      <td>0.03</td>\n",
       "      <td>50.02</td>\n",
       "      <td>2017-05-11 23:33</td>\n",
       "    </tr>\n",
       "    <tr>\n",
       "      <th>1</th>\n",
       "      <td>0.03</td>\n",
       "      <td>50.75</td>\n",
       "      <td>2017-05-12 01:46</td>\n",
       "    </tr>\n",
       "    <tr>\n",
       "      <th>2</th>\n",
       "      <td>0.03</td>\n",
       "      <td>50.77</td>\n",
       "      <td>2017-05-12 02:02</td>\n",
       "    </tr>\n",
       "    <tr>\n",
       "      <th>3</th>\n",
       "      <td>0.03</td>\n",
       "      <td>47.49</td>\n",
       "      <td>2017-05-13 00:56</td>\n",
       "    </tr>\n",
       "    <tr>\n",
       "      <th>4</th>\n",
       "      <td>0.03</td>\n",
       "      <td>46.87</td>\n",
       "      <td>2017-05-13 01:57</td>\n",
       "    </tr>\n",
       "    <tr>\n",
       "      <th>5</th>\n",
       "      <td>0.03</td>\n",
       "      <td>46.54</td>\n",
       "      <td>2017-05-13 02:46</td>\n",
       "    </tr>\n",
       "  </tbody>\n",
       "</table>\n",
       "</div>"
      ],
      "text/plain": [
       "    btc    eur              time\n",
       "0  0.03  50.02  2017-05-11 23:33\n",
       "1  0.03  50.75  2017-05-12 01:46\n",
       "2  0.03  50.77  2017-05-12 02:02\n",
       "3  0.03  47.49  2017-05-13 00:56\n",
       "4  0.03  46.87  2017-05-13 01:57\n",
       "5  0.03  46.54  2017-05-13 02:46"
      ]
     },
     "execution_count": 146,
     "metadata": {},
     "output_type": "execute_result"
    }
   ],
   "source": [
    "import pandas as pd\n",
    "dataframe = pd.read_csv('inputdata.csv', sep=',')\n",
    "dataframe"
   ]
  },
  {
   "cell_type": "markdown",
   "metadata": {},
   "source": [
    "# Now we can change it into a JSON format\n",
    "First convert the data from the dataframe to a dictionary (Pythons JSON object)"
   ]
  },
  {
   "cell_type": "code",
   "execution_count": 147,
   "metadata": {
    "collapsed": true
   },
   "outputs": [],
   "source": [
    "data = dataframe.to_dict(orient='records')"
   ]
  },
  {
   "cell_type": "markdown",
   "metadata": {},
   "source": [
    "Next we can pretty prtint the data using JSON."
   ]
  },
  {
   "cell_type": "code",
   "execution_count": 148,
   "metadata": {
    "collapsed": false
   },
   "outputs": [
    {
     "name": "stdout",
     "output_type": "stream",
     "text": [
      "[\n",
      "    {\n",
      "        \"btc\": 0.03,\n",
      "        \"eur\": 50.02,\n",
      "        \"time\": \"2017-05-11 23:33\"\n",
      "    },\n",
      "    {\n",
      "        \"btc\": 0.03,\n",
      "        \"eur\": 50.75,\n",
      "        \"time\": \"2017-05-12 01:46\"\n",
      "    },\n",
      "    {\n",
      "        \"btc\": 0.03,\n",
      "        \"eur\": 50.77,\n",
      "        \"time\": \"2017-05-12 02:02\"\n",
      "    },\n",
      "    {\n",
      "        \"btc\": 0.03,\n",
      "        \"eur\": 47.49,\n",
      "        \"time\": \"2017-05-13 00:56\"\n",
      "    },\n",
      "    {\n",
      "        \"btc\": 0.03,\n",
      "        \"eur\": 46.87,\n",
      "        \"time\": \"2017-05-13 01:57\"\n",
      "    },\n",
      "    {\n",
      "        \"btc\": 0.03,\n",
      "        \"eur\": 46.54,\n",
      "        \"time\": \"2017-05-13 02:46\"\n",
      "    }\n",
      "]\n"
     ]
    }
   ],
   "source": [
    "import json\n",
    "print(json.dumps(data, indent=4))"
   ]
  },
  {
   "cell_type": "markdown",
   "metadata": {},
   "source": [
    "# Delete the old data"
   ]
  },
  {
   "cell_type": "code",
   "execution_count": 149,
   "metadata": {
    "collapsed": false
   },
   "outputs": [
    {
     "data": {
      "text/plain": [
       "<pymongo.results.DeleteResult at 0x11062a168>"
      ]
     },
     "execution_count": 149,
     "metadata": {},
     "output_type": "execute_result"
    }
   ],
   "source": [
    "bitcoins.delete_many({})"
   ]
  },
  {
   "cell_type": "markdown",
   "metadata": {},
   "source": [
    "# Insert the data by looping through the JSON data\n",
    "Note that when you run this twice, it will give an error because the data already exists!"
   ]
  },
  {
   "cell_type": "code",
   "execution_count": 150,
   "metadata": {
    "collapsed": false
   },
   "outputs": [],
   "source": [
    "for item in data:\n",
    "    bitcoins.insert_one(item)"
   ]
  },
  {
   "cell_type": "code",
   "execution_count": 151,
   "metadata": {
    "collapsed": false
   },
   "outputs": [
    {
     "name": "stdout",
     "output_type": "stream",
     "text": [
      "[{'_id': ObjectId('591657810a4693836f8bc9a7'), 'btc': 0.03, 'eur': 50.02, 'time': '2017-05-11 23:33'}, {'_id': ObjectId('591657810a4693836f8bc9a8'), 'btc': 0.03, 'eur': 50.75, 'time': '2017-05-12 01:46'}, {'_id': ObjectId('591657810a4693836f8bc9a9'), 'btc': 0.03, 'eur': 50.77, 'time': '2017-05-12 02:02'}, {'_id': ObjectId('591657810a4693836f8bc9aa'), 'btc': 0.03, 'eur': 47.49, 'time': '2017-05-13 00:56'}, {'_id': ObjectId('591657810a4693836f8bc9ab'), 'btc': 0.03, 'eur': 46.87, 'time': '2017-05-13 01:57'}, {'_id': ObjectId('591657810a4693836f8bc9ac'), 'btc': 0.03, 'eur': 46.54, 'time': '2017-05-13 02:46'}]\n"
     ]
    }
   ],
   "source": [
    "bitcoins_in_database = list(bitcoins.find({}))\n",
    "print(bitcoins_in_database)"
   ]
  },
  {
   "cell_type": "markdown",
   "metadata": {},
   "source": [
    "# BACKEND IS DONE"
   ]
  },
  {
   "cell_type": "markdown",
   "metadata": {},
   "source": [
    "## Now lets do the front-end"
   ]
  },
  {
   "cell_type": "markdown",
   "metadata": {},
   "source": [
    "We need [Node](https://nodejs.org/en/) and the package installer [NPM](https://www.npmjs.com) to install the generator. Lets use brew again to easily install these packages.\n",
    "```shell\n",
    "$ brew install node\n",
    "```"
   ]
  },
  {
   "cell_type": "code",
   "execution_count": 34,
   "metadata": {
    "collapsed": false
   },
   "outputs": [
    {
     "name": "stdout",
     "output_type": "stream",
     "text": [
      "Updating Homebrew...\n",
      "\u001b[34m==>\u001b[0m \u001b[1mAuto-updated Homebrew!\u001b[0m\n",
      "Updated 1 tap (homebrew/core).\n",
      "\u001b[34m==>\u001b[0m \u001b[1mNew Formulae\u001b[0m\n",
      "pilosa\n",
      "\n",
      "\u001b[31mError:\u001b[0m node 7.4.0 is already installed\n",
      "To upgrade to 7.10.0, run `brew upgrade node`\n"
     ]
    }
   ],
   "source": [
    "!brew install node"
   ]
  },
  {
   "cell_type": "markdown",
   "metadata": {},
   "source": [
    "We will need [Grunt](https://gruntjs.com) to easily deploy the front end we are building.\n",
    "```shell\n",
    "$ npm install -g grunt-cli\n",
    "```"
   ]
  },
  {
   "cell_type": "code",
   "execution_count": 35,
   "metadata": {
    "collapsed": false
   },
   "outputs": [
    {
     "name": "stdout",
     "output_type": "stream",
     "text": [
      "\u001b[K\u001b[?25h/usr/local/bin/grunt -> /usr/local/lib/node_modules/grunt-cli/bin/gruntmdoParallel\u001b[0m preinstall 16\u001b[Kconten\u001b[K\n",
      "\u001b[K\u001b[?25h/usr/local/lib   \u001b[27m\u001b[90m░░░\u001b[0m⸩ ⠙ install:inherits: \u001b[7msill\u001b[0m \u001b[35mlifecycle\u001b[0m inherits@2.0.3~install:\u001b[K\n",
      "└─┬ \u001b[40m\u001b[33mgrunt-cli@1.2.0\u001b[39m\u001b[49m \n",
      "  ├─┬ \u001b[40m\u001b[33mfindup-sync@0.3.0\u001b[39m\u001b[49m \n",
      "  │ └─┬ \u001b[40m\u001b[33mglob@5.0.15\u001b[39m\u001b[49m \n",
      "  │   ├─┬ \u001b[40m\u001b[33minflight@1.0.6\u001b[39m\u001b[49m \n",
      "  │   │ └── \u001b[40m\u001b[33mwrappy@1.0.2\u001b[39m\u001b[49m \n",
      "  │   ├── \u001b[40m\u001b[33minherits@2.0.3\u001b[39m\u001b[49m \n",
      "  │   ├─┬ \u001b[40m\u001b[33mminimatch@3.0.4\u001b[39m\u001b[49m \n",
      "  │   │ └─┬ \u001b[40m\u001b[33mbrace-expansion@1.1.7\u001b[39m\u001b[49m \n",
      "  │   │   ├── \u001b[40m\u001b[33mbalanced-match@0.4.2\u001b[39m\u001b[49m \n",
      "  │   │   └── \u001b[40m\u001b[33mconcat-map@0.0.1\u001b[39m\u001b[49m \n",
      "  │   ├── \u001b[40m\u001b[33monce@1.4.0\u001b[39m\u001b[49m \n",
      "  │   └── \u001b[40m\u001b[33mpath-is-absolute@1.0.1\u001b[39m\u001b[49m \n",
      "  ├── \u001b[40m\u001b[33mgrunt-known-options@1.1.0\u001b[39m\u001b[49m \n",
      "  ├─┬ \u001b[40m\u001b[33mnopt@3.0.6\u001b[39m\u001b[49m \n",
      "  │ └── \u001b[40m\u001b[33mabbrev@1.1.0\u001b[39m\u001b[49m \n",
      "  └── \u001b[40m\u001b[33mresolve@1.1.7\u001b[39m\u001b[49m \n",
      "\n"
     ]
    }
   ],
   "source": [
    "!npm install -g grunt-cli"
   ]
  },
  {
   "cell_type": "code",
   "execution_count": null,
   "metadata": {
    "collapsed": true
   },
   "outputs": [],
   "source": []
  }
 ],
 "metadata": {
  "kernelspec": {
   "display_name": "Python 3",
   "language": "python",
   "name": "python3"
  },
  "language_info": {
   "codemirror_mode": {
    "name": "ipython",
    "version": 3
   },
   "file_extension": ".py",
   "mimetype": "text/x-python",
   "name": "python",
   "nbconvert_exporter": "python",
   "pygments_lexer": "ipython3",
   "version": "3.6.0"
  }
 },
 "nbformat": 4,
 "nbformat_minor": 2
}
