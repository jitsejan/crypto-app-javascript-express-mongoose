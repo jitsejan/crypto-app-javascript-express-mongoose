{
 "cells": [
  {
   "cell_type": "markdown",
   "metadata": {},
   "source": [
    "# Convert CSV to MongoDB"
   ]
  },
  {
   "cell_type": "markdown",
   "metadata": {},
   "source": [
    "## Reading the data\n",
    "We have two CSV files. One containing the amount of currency my simple miner is gathering. Another one containing the worth of my crypto wallet where I bought a few small amounts of crypto currencies."
   ]
  },
  {
   "cell_type": "code",
   "execution_count": 1,
   "metadata": {
    "collapsed": false
   },
   "outputs": [
    {
     "name": "stdout",
     "output_type": "stream",
     "text": [
      "mining.csv wallet.csv\r\n"
     ]
    }
   ],
   "source": [
    "!ls ../data/"
   ]
  },
  {
   "cell_type": "code",
   "execution_count": 2,
   "metadata": {
    "collapsed": false
   },
   "outputs": [
    {
     "data": {
      "text/plain": [
       "'0.19.2'"
      ]
     },
     "execution_count": 2,
     "metadata": {},
     "output_type": "execute_result"
    }
   ],
   "source": [
    "import pandas as pd\n",
    "pd.__version__"
   ]
  },
  {
   "cell_type": "markdown",
   "metadata": {},
   "source": [
    "### Mining data"
   ]
  },
  {
   "cell_type": "code",
   "execution_count": 3,
   "metadata": {
    "collapsed": false
   },
   "outputs": [
    {
     "data": {
      "text/html": [
       "<div>\n",
       "<table border=\"1\" class=\"dataframe\">\n",
       "  <thead>\n",
       "    <tr style=\"text-align: right;\">\n",
       "      <th></th>\n",
       "      <th>Date</th>\n",
       "      <th>DRK</th>\n",
       "      <th>BTC</th>\n",
       "      <th>LTC</th>\n",
       "    </tr>\n",
       "  </thead>\n",
       "  <tbody>\n",
       "    <tr>\n",
       "      <th>0</th>\n",
       "      <td>2017-04-28</td>\n",
       "      <td>0.011367</td>\n",
       "      <td>0.0</td>\n",
       "      <td>0.0</td>\n",
       "    </tr>\n",
       "    <tr>\n",
       "      <th>1</th>\n",
       "      <td>2017-04-29</td>\n",
       "      <td>0.010086</td>\n",
       "      <td>0.0</td>\n",
       "      <td>0.0</td>\n",
       "    </tr>\n",
       "    <tr>\n",
       "      <th>2</th>\n",
       "      <td>2017-04-30</td>\n",
       "      <td>0.011435</td>\n",
       "      <td>0.0</td>\n",
       "      <td>0.0</td>\n",
       "    </tr>\n",
       "    <tr>\n",
       "      <th>3</th>\n",
       "      <td>2017-05-01</td>\n",
       "      <td>0.012280</td>\n",
       "      <td>0.0</td>\n",
       "      <td>0.0</td>\n",
       "    </tr>\n",
       "    <tr>\n",
       "      <th>4</th>\n",
       "      <td>2017-05-02</td>\n",
       "      <td>0.012998</td>\n",
       "      <td>0.0</td>\n",
       "      <td>0.0</td>\n",
       "    </tr>\n",
       "  </tbody>\n",
       "</table>\n",
       "</div>"
      ],
      "text/plain": [
       "         Date       DRK  BTC  LTC\n",
       "0  2017-04-28  0.011367  0.0  0.0\n",
       "1  2017-04-29  0.010086  0.0  0.0\n",
       "2  2017-04-30  0.011435  0.0  0.0\n",
       "3  2017-05-01  0.012280  0.0  0.0\n",
       "4  2017-05-02  0.012998  0.0  0.0"
      ]
     },
     "execution_count": 3,
     "metadata": {},
     "output_type": "execute_result"
    }
   ],
   "source": [
    "# Read data to dataframe\n",
    "mining_df = pd.read_csv('../data/mining.csv', sep=';')\n",
    "# Fill missing numbers\n",
    "mining_df.fillna(0, inplace=True)\n",
    "mining_df.head(5)"
   ]
  },
  {
   "cell_type": "code",
   "execution_count": 4,
   "metadata": {
    "collapsed": false
   },
   "outputs": [
    {
     "data": {
      "text/plain": [
       "{'BTC': 0.0, 'DRK': 0.01136728, 'Date': '2017-04-28', 'LTC': 0.0}"
      ]
     },
     "execution_count": 4,
     "metadata": {},
     "output_type": "execute_result"
    }
   ],
   "source": [
    "mining_dict = mining_df.to_dict(orient='records')\n",
    "mining_dict[0]"
   ]
  },
  {
   "cell_type": "markdown",
   "metadata": {},
   "source": [
    "### Wallet data"
   ]
  },
  {
   "cell_type": "code",
   "execution_count": 5,
   "metadata": {
    "collapsed": false
   },
   "outputs": [
    {
     "data": {
      "text/html": [
       "<div>\n",
       "<table border=\"1\" class=\"dataframe\">\n",
       "  <thead>\n",
       "    <tr style=\"text-align: right;\">\n",
       "      <th></th>\n",
       "      <th>Time</th>\n",
       "      <th>BTC</th>\n",
       "      <th>DOGE</th>\n",
       "      <th>ETH</th>\n",
       "      <th>LTC</th>\n",
       "      <th>REP</th>\n",
       "    </tr>\n",
       "  </thead>\n",
       "  <tbody>\n",
       "    <tr>\n",
       "      <th>0</th>\n",
       "      <td>2017-05-03 23:17</td>\n",
       "      <td>19,70</td>\n",
       "      <td>0</td>\n",
       "      <td>78,88</td>\n",
       "      <td>20,81</td>\n",
       "      <td>0</td>\n",
       "    </tr>\n",
       "    <tr>\n",
       "      <th>1</th>\n",
       "      <td>2017-05-04 20:18</td>\n",
       "      <td>21,21</td>\n",
       "      <td>0</td>\n",
       "      <td>90,45</td>\n",
       "      <td>24,91</td>\n",
       "      <td>0</td>\n",
       "    </tr>\n",
       "    <tr>\n",
       "      <th>2</th>\n",
       "      <td>2017-05-05 19:11</td>\n",
       "      <td>20,1</td>\n",
       "      <td>11,58</td>\n",
       "      <td>91,73</td>\n",
       "      <td>24,06</td>\n",
       "      <td>0</td>\n",
       "    </tr>\n",
       "    <tr>\n",
       "      <th>3</th>\n",
       "      <td>2017-05-06 18:56</td>\n",
       "      <td>20,28</td>\n",
       "      <td>12,37</td>\n",
       "      <td>92,78</td>\n",
       "      <td>25,91</td>\n",
       "      <td>0</td>\n",
       "    </tr>\n",
       "    <tr>\n",
       "      <th>4</th>\n",
       "      <td>2017-05-09 0:50</td>\n",
       "      <td>21,77</td>\n",
       "      <td>20,34</td>\n",
       "      <td>89,27</td>\n",
       "      <td>28,45</td>\n",
       "      <td>0</td>\n",
       "    </tr>\n",
       "  </tbody>\n",
       "</table>\n",
       "</div>"
      ],
      "text/plain": [
       "               Time    BTC   DOGE    ETH    LTC REP\n",
       "0  2017-05-03 23:17  19,70      0  78,88  20,81   0\n",
       "1  2017-05-04 20:18  21,21      0  90,45  24,91   0\n",
       "2  2017-05-05 19:11   20,1  11,58  91,73  24,06   0\n",
       "3  2017-05-06 18:56  20,28  12,37  92,78  25,91   0\n",
       "4   2017-05-09 0:50  21,77  20,34  89,27  28,45   0"
      ]
     },
     "execution_count": 5,
     "metadata": {},
     "output_type": "execute_result"
    }
   ],
   "source": [
    "# Read data to dataframe\n",
    "wallet_df = pd.read_csv('../data/wallet.csv', sep=';', decimal=\",\")\n",
    "# Fill missing numbers\n",
    "wallet_df.fillna(0, inplace=True)\n",
    "wallet_df.head(5)"
   ]
  },
  {
   "cell_type": "code",
   "execution_count": 6,
   "metadata": {
    "collapsed": false
   },
   "outputs": [
    {
     "data": {
      "text/plain": [
       "{'BTC': '19,70',\n",
       " 'DOGE': 0,\n",
       " 'ETH': '78,88',\n",
       " 'LTC': '20,81',\n",
       " 'REP': 0,\n",
       " 'Time': '2017-05-03 23:17'}"
      ]
     },
     "execution_count": 6,
     "metadata": {},
     "output_type": "execute_result"
    }
   ],
   "source": [
    "wallet_dict = wallet_df.to_dict(orient='records')\n",
    "wallet_dict[0]"
   ]
  },
  {
   "cell_type": "markdown",
   "metadata": {},
   "source": [
    "## Saving the data\n",
    "### Import the Pymongo library and connect to MongoDB"
   ]
  },
  {
   "cell_type": "code",
   "execution_count": 7,
   "metadata": {
    "collapsed": false
   },
   "outputs": [
    {
     "name": "stdout",
     "output_type": "stream",
     "text": [
      "3.4.0\n"
     ]
    }
   ],
   "source": [
    "try:\n",
    "    import pymongo\n",
    "except:\n",
    "    !pip install pymongo\n",
    "    import pymongo\n",
    "print(pymongo.version)\n",
    "client = pymongo.MongoClient('mongodb://localhost:27017/')"
   ]
  },
  {
   "cell_type": "markdown",
   "metadata": {},
   "source": [
    "### Create a new database for the data"
   ]
  },
  {
   "cell_type": "code",
   "execution_count": 8,
   "metadata": {
    "collapsed": false
   },
   "outputs": [],
   "source": [
    "db = client['crypto-data']"
   ]
  },
  {
   "cell_type": "markdown",
   "metadata": {},
   "source": [
    "### Create a new table for the mining data"
   ]
  },
  {
   "cell_type": "code",
   "execution_count": 9,
   "metadata": {
    "collapsed": false
   },
   "outputs": [],
   "source": [
    "minings = db.minings"
   ]
  },
  {
   "cell_type": "markdown",
   "metadata": {},
   "source": [
    "### Delete the old data"
   ]
  },
  {
   "cell_type": "code",
   "execution_count": 10,
   "metadata": {
    "collapsed": false
   },
   "outputs": [
    {
     "data": {
      "text/plain": [
       "<pymongo.results.DeleteResult at 0x117acb828>"
      ]
     },
     "execution_count": 10,
     "metadata": {},
     "output_type": "execute_result"
    }
   ],
   "source": [
    "minings.delete_many({})"
   ]
  },
  {
   "cell_type": "markdown",
   "metadata": {},
   "source": [
    "### Insert the data by looping through the data"
   ]
  },
  {
   "cell_type": "code",
   "execution_count": 11,
   "metadata": {
    "collapsed": false
   },
   "outputs": [],
   "source": [
    "for item in mining_dict:\n",
    "    minings.insert_one(item)"
   ]
  },
  {
   "cell_type": "markdown",
   "metadata": {},
   "source": [
    "### Check the existing data"
   ]
  },
  {
   "cell_type": "code",
   "execution_count": 12,
   "metadata": {
    "collapsed": false
   },
   "outputs": [
    {
     "data": {
      "text/plain": [
       "{'BTC': 0.0,\n",
       " 'DRK': 0.01136728,\n",
       " 'Date': '2017-04-28',\n",
       " 'LTC': 0.0,\n",
       " '_id': ObjectId('5918a63e0a4693bb8470135c')}"
      ]
     },
     "execution_count": 12,
     "metadata": {},
     "output_type": "execute_result"
    }
   ],
   "source": [
    "minings_in_database = list(minings.find({}))\n",
    "minings_in_database[0]"
   ]
  },
  {
   "cell_type": "markdown",
   "metadata": {},
   "source": [
    "### Repeat this for the wallet data"
   ]
  },
  {
   "cell_type": "code",
   "execution_count": 13,
   "metadata": {
    "collapsed": false
   },
   "outputs": [
    {
     "data": {
      "text/plain": [
       "{'BTC': '19,70',\n",
       " 'DOGE': 0,\n",
       " 'ETH': '78,88',\n",
       " 'LTC': '20,81',\n",
       " 'REP': 0,\n",
       " 'Time': '2017-05-03 23:17',\n",
       " '_id': ObjectId('5918a63f0a4693bb8470136a')}"
      ]
     },
     "execution_count": 13,
     "metadata": {},
     "output_type": "execute_result"
    }
   ],
   "source": [
    "wallets = db.wallets\n",
    "wallets.delete_many({})\n",
    "for item in wallet_dict:\n",
    "    wallets.insert_one(item)\n",
    "wallets_in_database = list(wallets.find({}))\n",
    "wallets_in_database[0]"
   ]
  }
 ],
 "metadata": {
  "kernelspec": {
   "display_name": "Python 3",
   "language": "python",
   "name": "python3"
  },
  "language_info": {
   "codemirror_mode": {
    "name": "ipython",
    "version": 3
   },
   "file_extension": ".py",
   "mimetype": "text/x-python",
   "name": "python",
   "nbconvert_exporter": "python",
   "pygments_lexer": "ipython3",
   "version": "3.6.0"
  }
 },
 "nbformat": 4,
 "nbformat_minor": 2
}
