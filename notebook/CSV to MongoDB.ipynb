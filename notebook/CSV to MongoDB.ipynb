{
 "cells": [
  {
   "cell_type": "markdown",
   "metadata": {},
   "source": [
    "# Convert CSV to MongoDB"
   ]
  },
  {
   "cell_type": "markdown",
   "metadata": {},
   "source": [
    "## Reading the data\n",
    "We have two CSV files. One containing the amount of currency my simple miner is gathering. Another one containing the worth of my crypto wallet where I bought a few small amounts of crypto currencies."
   ]
  },
  {
   "cell_type": "code",
   "execution_count": 1,
   "metadata": {
    "collapsed": false
   },
   "outputs": [
    {
     "name": "stdout",
     "output_type": "stream",
     "text": [
      "mining.csv wallet.csv\r\n"
     ]
    }
   ],
   "source": [
    "!ls ../data/"
   ]
  },
  {
   "cell_type": "code",
   "execution_count": 2,
   "metadata": {
    "collapsed": false
   },
   "outputs": [
    {
     "data": {
      "text/plain": [
       "'0.19.2'"
      ]
     },
     "execution_count": 2,
     "metadata": {},
     "output_type": "execute_result"
    }
   ],
   "source": [
    "import pandas as pd\n",
    "pd.__version__"
   ]
  },
  {
   "cell_type": "markdown",
   "metadata": {},
   "source": [
    "### Mining data"
   ]
  },
  {
   "cell_type": "code",
   "execution_count": 3,
   "metadata": {
    "collapsed": false
   },
   "outputs": [
    {
     "data": {
      "text/html": [
       "<div>\n",
       "<table border=\"1\" class=\"dataframe\">\n",
       "  <thead>\n",
       "    <tr style=\"text-align: right;\">\n",
       "      <th></th>\n",
       "      <th>Date</th>\n",
       "      <th>DRK</th>\n",
       "      <th>BTC</th>\n",
       "      <th>LTC</th>\n",
       "    </tr>\n",
       "  </thead>\n",
       "  <tbody>\n",
       "    <tr>\n",
       "      <th>0</th>\n",
       "      <td>2017-04-28</td>\n",
       "      <td>0.011367</td>\n",
       "      <td>0</td>\n",
       "      <td>0.000000</td>\n",
       "    </tr>\n",
       "    <tr>\n",
       "      <th>1</th>\n",
       "      <td>2017-04-29</td>\n",
       "      <td>0.010086</td>\n",
       "      <td>0</td>\n",
       "      <td>0.000000</td>\n",
       "    </tr>\n",
       "    <tr>\n",
       "      <th>2</th>\n",
       "      <td>2017-04-30</td>\n",
       "      <td>0.011435</td>\n",
       "      <td>0</td>\n",
       "      <td>0.000000</td>\n",
       "    </tr>\n",
       "    <tr>\n",
       "      <th>3</th>\n",
       "      <td>2017-05-01</td>\n",
       "      <td>0.012280</td>\n",
       "      <td>0</td>\n",
       "      <td>0.000000</td>\n",
       "    </tr>\n",
       "    <tr>\n",
       "      <th>4</th>\n",
       "      <td>2017-05-02</td>\n",
       "      <td>0.012998</td>\n",
       "      <td>0</td>\n",
       "      <td>0.000000</td>\n",
       "    </tr>\n",
       "    <tr>\n",
       "      <th>5</th>\n",
       "      <td>2017-05-03</td>\n",
       "      <td>0.010910</td>\n",
       "      <td>0</td>\n",
       "      <td>0.000000</td>\n",
       "    </tr>\n",
       "    <tr>\n",
       "      <th>6</th>\n",
       "      <td>2017-05-04</td>\n",
       "      <td>0.010627</td>\n",
       "      <td>0.00000446</td>\n",
       "      <td>0.000317</td>\n",
       "    </tr>\n",
       "    <tr>\n",
       "      <th>7</th>\n",
       "      <td>2017-05-05</td>\n",
       "      <td>0.007488</td>\n",
       "      <td>0.0005732</td>\n",
       "      <td>0.003707</td>\n",
       "    </tr>\n",
       "    <tr>\n",
       "      <th>8</th>\n",
       "      <td>2017-05-06</td>\n",
       "      <td>0.007381</td>\n",
       "      <td>0.0001493</td>\n",
       "      <td>0.008580</td>\n",
       "    </tr>\n",
       "    <tr>\n",
       "      <th>9</th>\n",
       "      <td>2017-05-07</td>\n",
       "      <td>0.007243</td>\n",
       "      <td>0.0001518</td>\n",
       "      <td>0.008722</td>\n",
       "    </tr>\n",
       "    <tr>\n",
       "      <th>10</th>\n",
       "      <td>2017-05-08</td>\n",
       "      <td>0.005381</td>\n",
       "      <td>0.00011732</td>\n",
       "      <td>0.006145</td>\n",
       "    </tr>\n",
       "    <tr>\n",
       "      <th>11</th>\n",
       "      <td>2017-05-09</td>\n",
       "      <td>0.007240</td>\n",
       "      <td>0.00014552</td>\n",
       "      <td>0.008197</td>\n",
       "    </tr>\n",
       "    <tr>\n",
       "      <th>12</th>\n",
       "      <td>2017-05-10</td>\n",
       "      <td>0.008117</td>\n",
       "      <td>0.00013584</td>\n",
       "      <td>0.008230</td>\n",
       "    </tr>\n",
       "    <tr>\n",
       "      <th>13</th>\n",
       "      <td>2017-05-11</td>\n",
       "      <td>0.006478</td>\n",
       "      <td>0.00011364</td>\n",
       "      <td>0.005798</td>\n",
       "    </tr>\n",
       "    <tr>\n",
       "      <th>14</th>\n",
       "      <td>2017-05-12</td>\n",
       "      <td>0.000391</td>\n",
       "      <td>0.00054794</td>\n",
       "      <td>0.000388</td>\n",
       "    </tr>\n",
       "    <tr>\n",
       "      <th>15</th>\n",
       "      <td>2017-05-13</td>\n",
       "      <td>0.000000</td>\n",
       "      <td>0.00052669</td>\n",
       "      <td>0.000000</td>\n",
       "    </tr>\n",
       "    <tr>\n",
       "      <th>16</th>\n",
       "      <td>2017-05-14</td>\n",
       "      <td>0.002847</td>\n",
       "      <td>0.00035733,</td>\n",
       "      <td>0.000000</td>\n",
       "    </tr>\n",
       "  </tbody>\n",
       "</table>\n",
       "</div>"
      ],
      "text/plain": [
       "          Date       DRK          BTC       LTC\n",
       "0   2017-04-28  0.011367            0  0.000000\n",
       "1   2017-04-29  0.010086            0  0.000000\n",
       "2   2017-04-30  0.011435            0  0.000000\n",
       "3   2017-05-01  0.012280            0  0.000000\n",
       "4   2017-05-02  0.012998            0  0.000000\n",
       "5   2017-05-03  0.010910            0  0.000000\n",
       "6   2017-05-04  0.010627   0.00000446  0.000317\n",
       "7   2017-05-05  0.007488    0.0005732  0.003707\n",
       "8   2017-05-06  0.007381    0.0001493  0.008580\n",
       "9   2017-05-07  0.007243    0.0001518  0.008722\n",
       "10  2017-05-08  0.005381   0.00011732  0.006145\n",
       "11  2017-05-09  0.007240   0.00014552  0.008197\n",
       "12  2017-05-10  0.008117   0.00013584  0.008230\n",
       "13  2017-05-11  0.006478   0.00011364  0.005798\n",
       "14  2017-05-12  0.000391   0.00054794  0.000388\n",
       "15  2017-05-13  0.000000   0.00052669  0.000000\n",
       "16  2017-05-14  0.002847  0.00035733,  0.000000"
      ]
     },
     "execution_count": 3,
     "metadata": {},
     "output_type": "execute_result"
    }
   ],
   "source": [
    "# Read data to dataframe\n",
    "mining_df = pd.read_csv('../data/mining.csv', sep=';')\n",
    "# Fill missing numbers\n",
    "mining_df.fillna(0, inplace=True)\n",
    "mining_df"
   ]
  },
  {
   "cell_type": "code",
   "execution_count": 4,
   "metadata": {
    "collapsed": false
   },
   "outputs": [
    {
     "data": {
      "text/plain": [
       "{'BTC': 0, 'DRK': 0.01136728, 'Date': '2017-04-28', 'LTC': 0.0}"
      ]
     },
     "execution_count": 4,
     "metadata": {},
     "output_type": "execute_result"
    }
   ],
   "source": [
    "mining_dict = mining_df.to_dict(orient='records')\n",
    "mining_dict[0]"
   ]
  },
  {
   "cell_type": "markdown",
   "metadata": {},
   "source": [
    "### Wallet data"
   ]
  },
  {
   "cell_type": "code",
   "execution_count": 5,
   "metadata": {
    "collapsed": false
   },
   "outputs": [
    {
     "data": {
      "text/html": [
       "<div>\n",
       "<table border=\"1\" class=\"dataframe\">\n",
       "  <thead>\n",
       "    <tr style=\"text-align: right;\">\n",
       "      <th></th>\n",
       "      <th>Time</th>\n",
       "      <th>BTC</th>\n",
       "      <th>DOGE</th>\n",
       "      <th>ETH</th>\n",
       "      <th>LTC</th>\n",
       "      <th>REP</th>\n",
       "    </tr>\n",
       "  </thead>\n",
       "  <tbody>\n",
       "    <tr>\n",
       "      <th>0</th>\n",
       "      <td>2017-05-03 23:17:00</td>\n",
       "      <td>19.70</td>\n",
       "      <td>0.00</td>\n",
       "      <td>78.88</td>\n",
       "      <td>20.81</td>\n",
       "      <td>0.00</td>\n",
       "    </tr>\n",
       "    <tr>\n",
       "      <th>1</th>\n",
       "      <td>2017-05-04 20:18:00</td>\n",
       "      <td>21.21</td>\n",
       "      <td>0.00</td>\n",
       "      <td>90.45</td>\n",
       "      <td>24.91</td>\n",
       "      <td>0.00</td>\n",
       "    </tr>\n",
       "    <tr>\n",
       "      <th>2</th>\n",
       "      <td>2017-05-05 19:11:00</td>\n",
       "      <td>20.10</td>\n",
       "      <td>11.58</td>\n",
       "      <td>91.73</td>\n",
       "      <td>24.06</td>\n",
       "      <td>0.00</td>\n",
       "    </tr>\n",
       "    <tr>\n",
       "      <th>3</th>\n",
       "      <td>2017-05-06 18:56:00</td>\n",
       "      <td>20.28</td>\n",
       "      <td>12.37</td>\n",
       "      <td>92.78</td>\n",
       "      <td>25.91</td>\n",
       "      <td>0.00</td>\n",
       "    </tr>\n",
       "    <tr>\n",
       "      <th>4</th>\n",
       "      <td>2017-05-09 00:50:00</td>\n",
       "      <td>21.77</td>\n",
       "      <td>20.34</td>\n",
       "      <td>89.27</td>\n",
       "      <td>28.45</td>\n",
       "      <td>0.00</td>\n",
       "    </tr>\n",
       "    <tr>\n",
       "      <th>5</th>\n",
       "      <td>2017-05-09 02:15:00</td>\n",
       "      <td>21.99</td>\n",
       "      <td>20.58</td>\n",
       "      <td>88.62</td>\n",
       "      <td>28.49</td>\n",
       "      <td>34.70</td>\n",
       "    </tr>\n",
       "    <tr>\n",
       "      <th>6</th>\n",
       "      <td>2017-05-09 23:59:00</td>\n",
       "      <td>22.46</td>\n",
       "      <td>17.51</td>\n",
       "      <td>87.45</td>\n",
       "      <td>30.14</td>\n",
       "      <td>32.45</td>\n",
       "    </tr>\n",
       "    <tr>\n",
       "      <th>7</th>\n",
       "      <td>2017-05-11 00:57:00</td>\n",
       "      <td>23.15</td>\n",
       "      <td>18.83</td>\n",
       "      <td>86.94</td>\n",
       "      <td>32.18</td>\n",
       "      <td>34.36</td>\n",
       "    </tr>\n",
       "    <tr>\n",
       "      <th>8</th>\n",
       "      <td>2017-05-11 22:17:00</td>\n",
       "      <td>24.17</td>\n",
       "      <td>17.48</td>\n",
       "      <td>87.87</td>\n",
       "      <td>29.62</td>\n",
       "      <td>34.36</td>\n",
       "    </tr>\n",
       "    <tr>\n",
       "      <th>9</th>\n",
       "      <td>2017-05-12 01:55:00</td>\n",
       "      <td>24.13</td>\n",
       "      <td>17.99</td>\n",
       "      <td>88.05</td>\n",
       "      <td>30.02</td>\n",
       "      <td>36.08</td>\n",
       "    </tr>\n",
       "    <tr>\n",
       "      <th>10</th>\n",
       "      <td>2017-05-13 01:57:00</td>\n",
       "      <td>22.41</td>\n",
       "      <td>17.48</td>\n",
       "      <td>85.25</td>\n",
       "      <td>27.00</td>\n",
       "      <td>33.72</td>\n",
       "    </tr>\n",
       "    <tr>\n",
       "      <th>11</th>\n",
       "      <td>2017-05-14 15:32:00</td>\n",
       "      <td>23.67</td>\n",
       "      <td>17.04</td>\n",
       "      <td>89.19</td>\n",
       "      <td>28.90</td>\n",
       "      <td>34.24</td>\n",
       "    </tr>\n",
       "    <tr>\n",
       "      <th>12</th>\n",
       "      <td>2017-05-14 23:34:00</td>\n",
       "      <td>23.47</td>\n",
       "      <td>17.51</td>\n",
       "      <td>88.60</td>\n",
       "      <td>28.01</td>\n",
       "      <td>33.72</td>\n",
       "    </tr>\n",
       "  </tbody>\n",
       "</table>\n",
       "</div>"
      ],
      "text/plain": [
       "                  Time    BTC   DOGE    ETH    LTC    REP\n",
       "0  2017-05-03 23:17:00  19.70   0.00  78.88  20.81   0.00\n",
       "1  2017-05-04 20:18:00  21.21   0.00  90.45  24.91   0.00\n",
       "2  2017-05-05 19:11:00  20.10  11.58  91.73  24.06   0.00\n",
       "3  2017-05-06 18:56:00  20.28  12.37  92.78  25.91   0.00\n",
       "4  2017-05-09 00:50:00  21.77  20.34  89.27  28.45   0.00\n",
       "5  2017-05-09 02:15:00  21.99  20.58  88.62  28.49  34.70\n",
       "6  2017-05-09 23:59:00  22.46  17.51  87.45  30.14  32.45\n",
       "7  2017-05-11 00:57:00  23.15  18.83  86.94  32.18  34.36\n",
       "8  2017-05-11 22:17:00  24.17  17.48  87.87  29.62  34.36\n",
       "9  2017-05-12 01:55:00  24.13  17.99  88.05  30.02  36.08\n",
       "10 2017-05-13 01:57:00  22.41  17.48  85.25  27.00  33.72\n",
       "11 2017-05-14 15:32:00  23.67  17.04  89.19  28.90  34.24\n",
       "12 2017-05-14 23:34:00  23.47  17.51  88.60  28.01  33.72"
      ]
     },
     "execution_count": 5,
     "metadata": {},
     "output_type": "execute_result"
    }
   ],
   "source": [
    "# Read data to dataframe\n",
    "wallet_df = pd.read_csv('../data/wallet.csv', sep=';', decimal=\",\")\n",
    "# Fill missing numbers\n",
    "wallet_df.fillna(0, inplace=True)\n",
    "# Convert types\n",
    "wallet_df['Time'] = pd.to_datetime(wallet_df['Time'])\n",
    "wallet_df"
   ]
  },
  {
   "cell_type": "code",
   "execution_count": 6,
   "metadata": {
    "collapsed": false
   },
   "outputs": [
    {
     "data": {
      "text/plain": [
       "{'BTC': 19.7,\n",
       " 'DOGE': 0.0,\n",
       " 'ETH': 78.88,\n",
       " 'LTC': 20.81,\n",
       " 'REP': 0.0,\n",
       " 'Time': Timestamp('2017-05-03 23:17:00')}"
      ]
     },
     "execution_count": 6,
     "metadata": {},
     "output_type": "execute_result"
    }
   ],
   "source": [
    "wallet_dict = wallet_df.to_dict(orient='records')\n",
    "wallet_dict[0]"
   ]
  },
  {
   "cell_type": "markdown",
   "metadata": {},
   "source": [
    "## Saving the data\n",
    "### Import the Pymongo library and connect to MongoDB"
   ]
  },
  {
   "cell_type": "code",
   "execution_count": 7,
   "metadata": {
    "collapsed": false
   },
   "outputs": [
    {
     "name": "stdout",
     "output_type": "stream",
     "text": [
      "3.4.0\n"
     ]
    }
   ],
   "source": [
    "try:\n",
    "    import pymongo\n",
    "except:\n",
    "    !pip install pymongo\n",
    "    import pymongo\n",
    "print(pymongo.version)\n",
    "client = pymongo.MongoClient('mongodb://localhost:27017/')"
   ]
  },
  {
   "cell_type": "markdown",
   "metadata": {},
   "source": [
    "### Create a new database for the data"
   ]
  },
  {
   "cell_type": "code",
   "execution_count": 8,
   "metadata": {
    "collapsed": false
   },
   "outputs": [],
   "source": [
    "db = client['crypto-data']"
   ]
  },
  {
   "cell_type": "markdown",
   "metadata": {},
   "source": [
    "### Create a new table for the mining data"
   ]
  },
  {
   "cell_type": "code",
   "execution_count": 9,
   "metadata": {
    "collapsed": false
   },
   "outputs": [],
   "source": [
    "minings = db.minings"
   ]
  },
  {
   "cell_type": "markdown",
   "metadata": {},
   "source": [
    "### Delete the old data"
   ]
  },
  {
   "cell_type": "code",
   "execution_count": 10,
   "metadata": {
    "collapsed": false
   },
   "outputs": [
    {
     "data": {
      "text/plain": [
       "<pymongo.results.DeleteResult at 0x1173e4510>"
      ]
     },
     "execution_count": 10,
     "metadata": {},
     "output_type": "execute_result"
    }
   ],
   "source": [
    "minings.delete_many({})"
   ]
  },
  {
   "cell_type": "markdown",
   "metadata": {},
   "source": [
    "### Insert the data by looping through the data"
   ]
  },
  {
   "cell_type": "code",
   "execution_count": 11,
   "metadata": {
    "collapsed": false
   },
   "outputs": [],
   "source": [
    "for item in mining_dict:\n",
    "    minings.insert_one(item)"
   ]
  },
  {
   "cell_type": "markdown",
   "metadata": {},
   "source": [
    "### Check the existing data"
   ]
  },
  {
   "cell_type": "code",
   "execution_count": 12,
   "metadata": {
    "collapsed": false
   },
   "outputs": [
    {
     "data": {
      "text/plain": [
       "{'BTC': 0,\n",
       " 'DRK': 0.01136728,\n",
       " 'Date': '2017-04-28',\n",
       " 'LTC': 0.0,\n",
       " '_id': ObjectId('591a222c0a4693e2b6b9755b')}"
      ]
     },
     "execution_count": 12,
     "metadata": {},
     "output_type": "execute_result"
    }
   ],
   "source": [
    "minings_in_database = list(minings.find({}))\n",
    "minings_in_database[0]"
   ]
  },
  {
   "cell_type": "markdown",
   "metadata": {},
   "source": [
    "### Repeat this for the wallet data"
   ]
  },
  {
   "cell_type": "code",
   "execution_count": 13,
   "metadata": {
    "collapsed": false
   },
   "outputs": [
    {
     "data": {
      "text/plain": [
       "{'BTC': 19.7,\n",
       " 'DOGE': 0.0,\n",
       " 'ETH': 78.88,\n",
       " 'LTC': 20.81,\n",
       " 'REP': 0.0,\n",
       " 'Time': datetime.datetime(2017, 5, 3, 23, 17),\n",
       " '_id': ObjectId('591a222c0a4693e2b6b9756c')}"
      ]
     },
     "execution_count": 13,
     "metadata": {},
     "output_type": "execute_result"
    }
   ],
   "source": [
    "wallets = db.wallets\n",
    "wallets.delete_many({})\n",
    "for item in wallet_dict:\n",
    "    wallets.insert_one(item)\n",
    "wallets_in_database = list(wallets.find({}))\n",
    "wallets_in_database[0]"
   ]
  }
 ],
 "metadata": {
  "kernelspec": {
   "display_name": "Python 3",
   "language": "python",
   "name": "python3"
  },
  "language_info": {
   "codemirror_mode": {
    "name": "ipython",
    "version": 3
   },
   "file_extension": ".py",
   "mimetype": "text/x-python",
   "name": "python",
   "nbconvert_exporter": "python",
   "pygments_lexer": "ipython3",
   "version": "3.6.0"
  }
 },
 "nbformat": 4,
 "nbformat_minor": 2
}
